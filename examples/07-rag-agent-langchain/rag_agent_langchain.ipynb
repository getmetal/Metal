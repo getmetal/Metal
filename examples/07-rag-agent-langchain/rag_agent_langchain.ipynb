{
 "cells": [
  {
   "cell_type": "markdown",
   "metadata": {},
   "source": [
    "# Building a Custom Retrieval Augmented (RAG) Agent with Langchain and Metal"
   ]
  },
  {
   "cell_type": "markdown",
   "metadata": {},
   "source": [
    "In this example, we'll create a simple RAG agent that can answer questions based on information from a PDF file. [Langchain]('https://www.langchain.com/') will assist us in integrating additional tools like a calculator or a search engine, enhancing our application's ability to reason and perform complex computations. Metal will streamline the entire process by processing the documents, breaking them into smaller parts, and extracting their meaning so we can have engaging conversations with our data.\n",
    "\n",
    "Let's start by running `pip install metal_sdk` in your terminal and setting up the Metal Client. "
   ]
  },
  {
   "cell_type": "code",
   "execution_count": 7,
   "metadata": {},
   "outputs": [],
   "source": [
    "from metal_sdk.metal import Metal\n",
    "import os\n",
    "\n",
    "api_key= os.environ['METAL_API_KEY']\n",
    "client_id= os.environ['METAL_CLIENT_ID']\n",
    "\n",
    "metal = Metal(api_key, client_id)\n"
   ]
  },
  {
   "cell_type": "markdown",
   "metadata": {},
   "source": [
    "Creating a Retrieval pipeline (RAG) in Metal is a [3 step process]('https://docs.getmetal.io/guides/misc-retrieval-pipeline').\n",
    "\n",
    "1. First, we want to create a [Data Source]('https://docs.getmetal.io/rest-api/datasources/create'), this is the repository where our files will be pre processed. \n",
    "\n",
    "2. Then connect it to an [Index]('https://docs.getmetal.io/rest-api/indexes/post').  This where our preprocessed data will be transformed into embeddings and made queryable for our agent. \n",
    "\n",
    "3. Finally, upload the files as [Data Entities]('https://docs.getmetal.io/rest-api/dataentities/create') to our datasource. "
   ]
  },
  {
   "cell_type": "markdown",
   "metadata": {},
   "source": [
    "### Step 1: Create a Data Source"
   ]
  },
  {
   "cell_type": "code",
   "execution_count": 8,
   "metadata": {},
   "outputs": [],
   "source": [
    "datasource_payload = {\n",
    "    \"name\": \"Food Safety Datasource\",\n",
    "    \"sourcetype\": \"File\",\n",
    "    \"autoExtract\": True,\n",
    "    \"metadataFields\": []\n",
    "}\n",
    "\n",
    "datasource = metal.add_datasource(datasource_payload)\n"
   ]
  },
  {
   "cell_type": "markdown",
   "metadata": {},
   "source": [
    "### Step 2: Connect Index to Data Source"
   ]
  },
  {
   "cell_type": "code",
   "execution_count": 9,
   "metadata": {},
   "outputs": [],
   "source": [
    "# Connect Index to the Datasource\n",
    "datasource_id = datasource['data']['id']\n",
    "\n",
    "index_payload = {\n",
    "    \"model\": \"text-embedding-ada-002\",\n",
    "    \"name\": \"Food Safety Index\",\n",
    "    \"datasource\": datasource_id,\n",
    "    \"indexType\": \"HNSW\",\n",
    "    \"dimensions\": 1536\n",
    "}\n",
    "\n",
    "food_report_index = metal.add_index(index_payload)\n"
   ]
  },
  {
   "cell_type": "markdown",
   "metadata": {},
   "source": [
    "### Step 3: Upload Files (Data Entities) to the Data Source"
   ]
  },
  {
   "cell_type": "markdown",
   "metadata": {},
   "source": [
    " For this example, we will use [The State of Food Security and Nutrition in the World 2022 - UNICEF DATA]('https://data.unicef.org/resources/sofi-2021/')"
   ]
  },
  {
   "cell_type": "code",
   "execution_count": 10,
   "metadata": {},
   "outputs": [],
   "source": [
    "# Add files (Data Entities) to the Datasource\n",
    "file_path = 'data/SOFI2021_InBrief.pdf'\n",
    "results = metal.add_data_entity(datasource_id, file_path)\n"
   ]
  },
  {
   "cell_type": "markdown",
   "metadata": {},
   "source": [
    "### Step 4: Create Question Answering Chain\n"
   ]
  },
  {
   "cell_type": "markdown",
   "metadata": {},
   "source": [
    "Now, let's add the Index Id to our Metal Client and let's initialize the Question Answering (QA) chain using the MetalRetriever module from Langchain. "
   ]
  },
  {
   "cell_type": "code",
   "execution_count": 11,
   "metadata": {},
   "outputs": [],
   "source": [
    "#Instiantiate Metal as the Retriever including the index_id\n",
    "from langchain.retrievers.metal import MetalRetriever\n",
    "from langchain.chains import RetrievalQA\n",
    "from langchain.llms import OpenAI\n",
    "\n",
    "index_id = food_report_index['data']['id']\n",
    "metal = Metal(api_key, client_id, index_id)\n",
    "\n",
    "retriever = MetalRetriever(client=metal,params={\"limit\": 2} )\n",
    "\n",
    "qa_chain = RetrievalQA.from_chain_type(\n",
    "  llm=OpenAI(temperature=0),\n",
    "  chain_type=\"stuff\",\n",
    "  retriever=retriever,\n",
    ")\n"
   ]
  },
  {
   "cell_type": "markdown",
   "metadata": {},
   "source": [
    "### Step 5: Querying the Retriever\n"
   ]
  },
  {
   "cell_type": "code",
   "execution_count": 12,
   "metadata": {},
   "outputs": [
    {
     "name": "stdout",
     "output_type": "stream",
     "text": [
      " Some strategies to lower the cost of nutritious foods include buying in bulk, shopping at discount stores, growing your own food, and taking advantage of coupons and sales.\n"
     ]
    }
   ],
   "source": [
    "query = \"What are the the strategies to lower the cost of nutritious foods?\"\n",
    "response = qa_chain(query)\n",
    "result = response[\"result\"]\n",
    "print(result)\n"
   ]
  },
  {
   "cell_type": "markdown",
   "metadata": {},
   "source": [
    "### Step 5: Empowering the Application with Agency\n"
   ]
  },
  {
   "cell_type": "markdown",
   "metadata": {},
   "source": [
    "Here, we define a set of tools for our agent, including the \"Food Security Report,\" which utilizes the QA chain for answering questions, the \"Math\" tool for mathematical inquiries, and the \"Search\" tool for searching the internet for relevant information. Each tool is accompanied by a custom name and a descriptive explanation, helping our agent make informed decisions."
   ]
  },
  {
   "cell_type": "code",
   "execution_count": 13,
   "metadata": {},
   "outputs": [],
   "source": [
    "from langchain.chat_models import ChatOpenAI\n",
    "\n",
    "# chat completion llm\n",
    "llm = ChatOpenAI(\n",
    "    model_name='gpt-3.5-turbo',\n",
    "    temperature=0.0,\n",
    ")\n"
   ]
  },
  {
   "cell_type": "code",
   "execution_count": 14,
   "metadata": {},
   "outputs": [],
   "source": [
    "from langchain.agents import load_tools, Tool\n",
    "\n",
    "#defining the tools for the agent\n",
    "tools_chain = load_tools([\"llm-math\",\"serpapi\"], llm=llm)\n",
    "\n",
    "#defining the tools for the agent\n",
    "tools = [\n",
    "    Tool(\n",
    "        name = \"Food Security Report\",\n",
    "        func=qa_chain.run,\n",
    "        description=\"use this as the primary source of context information when you are asked the question. Always search for the answers using this tool first, don't make up answers yourself\"\n",
    "    ),\n",
    "\n",
    "    Tool(\n",
    "        name = \"Math\",\n",
    "        func = tools_chain[0].func,\n",
    "        description = \"use this tool to answer math questions\"\n",
    "        ),\n",
    "\n",
    "\n",
    "    Tool(\n",
    "        name = \"Search\",\n",
    "        func = tools_chain[1].func,\n",
    "        description = \"use this tool to search questions on the internet\"\n",
    "        )\n",
    "]\n"
   ]
  },
  {
   "cell_type": "markdown",
   "metadata": {},
   "source": [
    "### Step 6: Initialize the Agent Chain\n"
   ]
  },
  {
   "cell_type": "code",
   "execution_count": 15,
   "metadata": {},
   "outputs": [],
   "source": [
    "from langchain.agents import initialize_agent\n",
    "\n",
    "agent_chain = initialize_agent(tools,\n",
    "                         llm,\n",
    "                         agent=\"zero-shot-react-description\",\n",
    "                         verbose=True,\n",
    "                         max_iterations=5)\n"
   ]
  },
  {
   "cell_type": "code",
   "execution_count": 62,
   "metadata": {},
   "outputs": [
    {
     "name": "stdout",
     "output_type": "stream",
     "text": [
      "\n",
      "\n",
      "\u001b[1m> Entering new  chain...\u001b[0m\n",
      "\u001b[32;1m\u001b[1;3mI should start by checking the Food Insecurity Report to find the cost of a healthy diet in Middle Africa. Then I can convert that value to Japanese Yen and calculate the square root.\n",
      "Action: Food Insecurity Report\n",
      "Action Input: Cost of a healthy diet in Middle Africa\u001b[0m\n",
      "Observation: \u001b[36;1m\u001b[1;3mThe cost of a healthy diet in Middle Africa is 3.81 USD per person per day.\u001b[0m\n",
      "Thought:\u001b[32;1m\u001b[1;3mNow I need to convert 3.81 USD to Japanese Yen. I can use the Search tool to find the current exchange rate.\n",
      "Action: Search\n",
      "Action Input: \"USD to JPY exchange rate\"\u001b[0m\n",
      "Observation: \u001b[38;5;200m\u001b[1;3mConvert US Dollar to Japanese Yen ; 1 USD, 149.746 JPY ; 5 USD, 748.728 JPY ; 10 USD, 1,497.46 JPY ; 25 USD, 3,743.64 JPY.\u001b[0m\n",
      "Thought:\u001b[32;1m\u001b[1;3mI can see that the exchange rate is 1 USD to 149.746 JPY. Now I can calculate the cost of a healthy diet in Middle Africa in Japanese Yen.\n",
      "Action: Math\n",
      "Action Input: 3.81 USD * 149.746 JPY/USD\u001b[0m\n",
      "Observation: \u001b[33;1m\u001b[1;3mAnswer: 570.5322600000001\u001b[0m\n",
      "Thought:\u001b[32;1m\u001b[1;3mNow I have the cost of a healthy diet in Middle Africa in Japanese Yen. I can calculate the square root of this value.\n",
      "Action: Math\n",
      "Action Input: Square root of 570.5322600000001\u001b[0m\n",
      "Observation: \u001b[33;1m\u001b[1;3mAnswer: 23.88581713067401\u001b[0m\n",
      "Thought:\u001b[32;1m\u001b[1;3mI now know the final answer. \n",
      "Final Answer: The cost of a healthy diet in Middle Africa is 570.53 Japanese Yen today, and the square root of this value is approximately 23.89.\u001b[0m\n",
      "\n",
      "\u001b[1m> Finished chain.\u001b[0m\n"
     ]
    },
    {
     "data": {
      "text/plain": [
       "'The cost of a healthy diet in Middle Africa is 570.53 Japanese Yen today, and the square root of this value is approximately 23.89.'"
      ]
     },
     "execution_count": 62,
     "metadata": {},
     "output_type": "execute_result"
    }
   ],
   "source": [
    "query   = \"What is the cost of a healthy diet in Middle Africa? What does that value represent today in Japanese Yen? And what is the root square of this value?\"\n",
    "\n",
    "agent_chain.run(input=query)\n"
   ]
  },
  {
   "cell_type": "markdown",
   "metadata": {},
   "source": [
    "Our agent performs a range of tasks to arrive at a comprehensive answer. It retrieves relevant data from the vector store, conducts internet searches, and employs mathematical calculations to provide an accurate response."
   ]
  }
 ],
 "metadata": {
  "kernelspec": {
   "display_name": "metal",
   "language": "python",
   "name": "python3"
  },
  "language_info": {
   "codemirror_mode": {
    "name": "ipython",
    "version": 3
   },
   "file_extension": ".py",
   "mimetype": "text/x-python",
   "name": "python",
   "nbconvert_exporter": "python",
   "pygments_lexer": "ipython3",
   "version": "3.9.14"
  }
 },
 "nbformat": 4,
 "nbformat_minor": 2
}
